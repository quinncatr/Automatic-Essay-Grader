{
  "cells": [
    {
      "cell_type": "markdown",
      "metadata": {
        "id": "fLouCVMWP37_"
      },
      "source": [
        "## Automatic Essay Grader:\n",
        "This project focuses on an NLP also known as a natural langauge processor. The specific model we used is a transformer-based neural language model, called DeBERTa. DeBERTa is based on RoBERTa and BERT, but is much better at solving NLU problems by using disentangled attention and enhanced mask decoder."
      ]
    },
    {
      "cell_type": "markdown",
      "metadata": {
        "id": "YUwl57x_oLhc"
      },
      "source": [
        "## Data Explaination\n",
        "Shown below is a piece of our data, which is loaded into the project by importing a google drive folder containing the data. The data itself we got from the ASAP-AES (Automated Student Assessment Prize) dataset. The first column is the essay ids, which is how we know which essay we're working with. The second column is the essay itself and the third is the grade of the essay in that row. The grade can range from 1 to 5, with 5 being the higher score.\n",
        "\n",
        "![image.png](data:image/png;base64,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)"
      ]
    },
    {
      "cell_type": "code",
      "execution_count": null,
      "metadata": {
        "colab": {
          "base_uri": "https://localhost:8080/"
        },
        "id": "7IzO__nUOic5",
        "outputId": "8ef70f3c-176d-452e-eadb-c425ae2af84c"
      },
      "outputs": [
        {
          "name": "stdout",
          "output_type": "stream",
          "text": [
            "Mounted at /content/drive\n"
          ]
        }
      ],
      "source": [
        "from google.colab import drive\n",
        "\n",
        "drive.mount('/content/drive')"
      ]
    },
    {
      "cell_type": "markdown",
      "metadata": {
        "id": "S6ppiVEgs7e0"
      },
      "source": [
        "## Library imports and Data Loader\n",
        "This code block holds our data loader, which reads the dataset, assigns X to the column named \"full_text\", and y to the column \"score\" that is also shifted by -1 as deBERTa requires labels to begin with 0.\n",
        "\n",
        "Maps scores:\n",
        "\n",
        "[1,2,3,4,5]\n",
        "\n",
        "to\n",
        "\n",
        "[0,1,2,3,4]\n",
        "\n",
        "It then splits the data into train test splits."
      ]
    },
    {
      "cell_type": "code",
      "execution_count": null,
      "metadata": {
        "collapsed": true,
        "id": "0r89a8jUjde6"
      },
      "outputs": [],
      "source": [
        "import pandas as pd\n",
        "import numpy as np\n",
        "import torch\n",
        "from sklearn.model_selection import train_test_split\n",
        "from transformers import AutoTokenizer\n",
        "from transformers import AutoModelForSequenceClassification\n",
        "from transformers import Trainer\n",
        "from transformers import TrainingArguments\n",
        "from sklearn.feature_extraction.text import TfidfVectorizer\n",
        "from sklearn.svm import LinearSVC\n",
        "from sklearn.pipeline import Pipeline\n",
        "from sklearn.metrics import accuracy_score, f1_score, precision_score\n",
        "from torch.utils.data import Dataset\n",
        "import os\n",
        "\n",
        "#Disables annoying message\n",
        "os.environ[\"WANDB_DISABLED\"] = \"true\"\n",
        "\n",
        "#Data loader\n",
        "def load():\n",
        "  filename = '/content/drive/My Drive/cs345 goog/train.csv'\n",
        "  data = pd.read_csv(filename)\n",
        "  X = data[\"full_text\"].values\n",
        "  y = data[\"score\"].astype(int).values - 1\n",
        "  return X, y\n",
        "\n",
        "X, y = load()\n",
        "\n",
        "X_train, X_test, y_train, y_test = train_test_split(X, y, test_size=0.2, random_state=42)"
      ]
    },
    {
      "cell_type": "markdown",
      "metadata": {
        "id": "Lb_TNVs-upQ1"
      },
      "source": [
        "## Model Initialization\n",
        "This is the model classification and tokenizer initialization for the deBERTa model. We used deberta-v3-base as deberta-v3-large is too memory heavy for colab and the previous deBERTas, deberta and deberta-v2, preform worse than the v3 on classification tasks."
      ]
    },
    {
      "cell_type": "code",
      "execution_count": null,
      "metadata": {
        "colab": {
          "base_uri": "https://localhost:8080/",
          "height": 350,
          "referenced_widgets": [
            "7170c496397644789215abe0f043c76b",
            "599f0b6f66be4e0da9926eea8acd0e2c",
            "404408e07dab46a88d73c5f3a53b8b72",
            "73090c2484d04997860384847b55bced",
            "daf99933155845f79b38d480a666697c",
            "3aeedaacee324000bb66b2d397017391",
            "55f887d6d20e446eacc6c9f6aef4836e",
            "de279557f83c49709b48f8b929651417",
            "b85edb33f9894236b3599b7729aa155d",
            "28ffb6b1d754448992dbccffc44d6d4a",
            "5d205850029e49d092d340b1cd4f7d62",
            "dc543fb355384bdd9392c9d28153ced2",
            "837913c385ae421483185b51cc6b2fce",
            "c21531147a2d46df8b805aa5f82f48b8",
            "3a8f1cae6a4047a68432432c542032fb",
            "3809d40ba92144f18034fd4d625dbc20",
            "e7dd6d3e61a34e49b5a91d153dda8a1d",
            "c1dc68a38c864c9c9affe10fe05744b0",
            "ae7d6fb6d8ce43179723cf0d02b5d707",
            "855bf06bb0274055a2f3ef7f442b2ffc",
            "194df6a26050408c82f998218353feb6",
            "6965e1f8c56349c688f16eee40d7ed09",
            "351a2aec4ed9432d911c533351b2db51",
            "fec9ecb6b5f44ee183fb94383d3f035d",
            "e2ffc841361440b3806a8c7dae11667d",
            "e472a9dd47ef45029f1e0ca4828a2cc0",
            "c4e3feeebc3f4eabb118e36efe2fc50a",
            "4d6147560c8b4243a3c01dbdc96508fa",
            "0797cde920064651be84014873a84512",
            "70ae36f1ac914d59a2ca109728728366",
            "91752da9f725411694580f8bced41cd8",
            "361bdbab964e45df831ed00978950db2",
            "7b213d1c1ae6480b82af23c3356b01cd",
            "e86f2bd9ba7a4b27b9d21985038b130c",
            "ce6ce352829c4f58ae7f90cae6af3566",
            "b0bb00538f674b0bb5e16317d167324f",
            "849ae259e081440292b3f345cdc2cc0f",
            "1827a0f752b1469da0d14669d89a4f00",
            "6783d7fa04f649598d094bf3a5871324",
            "4ec690c595cf48a19dc1b5b2d120c910",
            "ac10d095d35e4af5ad4ec748d3fe049a",
            "f8e5c22345bf4858a064638b78baae69",
            "0cb23c207dda412ebe0777c83b8eefec",
            "e701f69cc8904284915d7a453923adb5"
          ]
        },
        "id": "4eHpnxwuawO0",
        "outputId": "e446c254-2f00-444b-acce-de1dd64f69fd"
      },
      "outputs": [
        {
          "name": "stderr",
          "output_type": "stream",
          "text": [
            "/usr/local/lib/python3.11/dist-packages/huggingface_hub/utils/_auth.py:94: UserWarning: \n",
            "The secret `HF_TOKEN` does not exist in your Colab secrets.\n",
            "To authenticate with the Hugging Face Hub, create a token in your settings tab (https://huggingface.co/settings/tokens), set it as secret in your Google Colab and restart your session.\n",
            "You will be able to reuse this secret in all of your notebooks.\n",
            "Please note that authentication is recommended but still optional to access public models or datasets.\n",
            "  warnings.warn(\n"
          ]
        },
        {
          "data": {
            "application/vnd.jupyter.widget-view+json": {
              "model_id": "7170c496397644789215abe0f043c76b",
              "version_major": 2,
              "version_minor": 0
            },
            "text/plain": [
              "tokenizer_config.json:   0%|          | 0.00/52.0 [00:00<?, ?B/s]"
            ]
          },
          "metadata": {},
          "output_type": "display_data"
        },
        {
          "data": {
            "application/vnd.jupyter.widget-view+json": {
              "model_id": "dc543fb355384bdd9392c9d28153ced2",
              "version_major": 2,
              "version_minor": 0
            },
            "text/plain": [
              "config.json:   0%|          | 0.00/579 [00:00<?, ?B/s]"
            ]
          },
          "metadata": {},
          "output_type": "display_data"
        },
        {
          "data": {
            "application/vnd.jupyter.widget-view+json": {
              "model_id": "351a2aec4ed9432d911c533351b2db51",
              "version_major": 2,
              "version_minor": 0
            },
            "text/plain": [
              "spm.model:   0%|          | 0.00/2.46M [00:00<?, ?B/s]"
            ]
          },
          "metadata": {},
          "output_type": "display_data"
        },
        {
          "name": "stderr",
          "output_type": "stream",
          "text": [
            "/usr/local/lib/python3.11/dist-packages/transformers/convert_slow_tokenizer.py:559: UserWarning: The sentencepiece tokenizer that you are converting to a fast tokenizer uses the byte fallback option which is not implemented in the fast tokenizers. In practice this means that the fast version of the tokenizer can produce unknown tokens whereas the sentencepiece version would have converted these unknown tokens into a sequence of byte tokens matching the original piece of text.\n",
            "  warnings.warn(\n"
          ]
        },
        {
          "data": {
            "application/vnd.jupyter.widget-view+json": {
              "model_id": "e86f2bd9ba7a4b27b9d21985038b130c",
              "version_major": 2,
              "version_minor": 0
            },
            "text/plain": [
              "pytorch_model.bin:   0%|          | 0.00/371M [00:00<?, ?B/s]"
            ]
          },
          "metadata": {},
          "output_type": "display_data"
        },
        {
          "name": "stderr",
          "output_type": "stream",
          "text": [
            "Some weights of DebertaV2ForSequenceClassification were not initialized from the model checkpoint at microsoft/deberta-v3-base and are newly initialized: ['classifier.bias', 'classifier.weight', 'pooler.dense.bias', 'pooler.dense.weight']\n",
            "You should probably TRAIN this model on a down-stream task to be able to use it for predictions and inference.\n"
          ]
        }
      ],
      "source": [
        "# Model Classification and Tokenizer for essays\n",
        "tokenizer = AutoTokenizer.from_pretrained(\"microsoft/deberta-v3-base\")\n",
        "model = AutoModelForSequenceClassification.from_pretrained(\"microsoft/deberta-v3-base\", num_labels=6)"
      ]
    },
    {
      "cell_type": "markdown",
      "metadata": {
        "id": "vKopF8TnvQqO"
      },
      "source": [
        "## Dataset Class Explaination\n",
        "DeBERTa is a Hugging Face model, as such, it requires a specific format before training, in the above code block, we initialize the essays, labels, tokenizer, and max_length(of the essays). Then, we prepare the trainer for tokenized input, by (1) getting the essay and label of an index, (2) tokenizing the essay so it fits, (3) reducing the dimension of tokenized essay for quicker training, and (4) adding a label key tensor required by Hugging Face models and PyTorch's Dataset. Finally we have a simple length check function."
      ]
    },
    {
      "cell_type": "code",
      "execution_count": null,
      "metadata": {
        "id": "DZj1ql8Z6_q5"
      },
      "outputs": [],
      "source": [
        "#Dataset Class\n",
        "class DatasetClass(Dataset):\n",
        "    def __init__(self, texts, labels, tokenizer, max_length=512):\n",
        "        self.texts = list(texts)\n",
        "        self.labels = list(labels)\n",
        "        self.tokenizer = tokenizer\n",
        "        self.max_length = max_length\n",
        "\n",
        "    def __getitem__(self, idx):\n",
        "        text = self.texts[idx]\n",
        "        label = self.labels[idx]\n",
        "        encoding = self.tokenizer(text, truncation=True, padding=\"max_length\", max_length=self.max_length, return_tensors=\"pt\")\n",
        "        item = {key: val.squeeze(0) for key, val in encoding.items()}\n",
        "        item['labels'] = torch.tensor(label)\n",
        "        return item\n",
        "\n",
        "    def __len__(self):\n",
        "        return len(self.labels)"
      ]
    },
    {
      "cell_type": "markdown",
      "metadata": {
        "id": "PcMvWRDIymPY"
      },
      "source": [
        "## Args/Hyperparaments Initialization\n",
        "These are the arguments/hyperparameters for the DeBERTa model. The block begins by initializing train and test with the class we made previously. Then, we have a bunch of Training arguments that determine many things about the training.\n",
        "\n",
        "E.G:\n",
        "\n",
        "-output_dir='./model': Determines where the model is saved after training\n",
        "\n",
        "-num_train_epochs=3: Number of passes through the dataset\n",
        "\n",
        "-per_device_train_batch_size=4: Training batch per device(GPU in our case)\n",
        "\n",
        "-per_device_eval_batch_size=4: Same as before but evalution\n",
        "\n",
        "-do_eval=True: Runs trainer.evaluate() and prints each epoch\n",
        "\n",
        "-logging_dir='./logs': Log directory for training loss, accuracy, etc...\n",
        "\n",
        "-logging_steps=50: Adds to logs every 50 steps\n",
        "\n",
        "-save_steps=500: Saves model as a checkpoint every 500 steps\n",
        "\n",
        "-save_total_limit=1: Can only have 1 checkpoint at a time\n"
      ]
    },
    {
      "cell_type": "code",
      "execution_count": null,
      "metadata": {
        "colab": {
          "base_uri": "https://localhost:8080/"
        },
        "id": "IaTE50tL97YJ",
        "outputId": "5ec86b8a-7553-4188-95c1-f5b1dee064d6"
      },
      "outputs": [
        {
          "name": "stderr",
          "output_type": "stream",
          "text": [
            "Using the `WANDB_DISABLED` environment variable is deprecated and will be removed in v5. Use the --report_to flag to control the integrations used for logging result (for instance --report_to none).\n"
          ]
        }
      ],
      "source": [
        "#Args/Hyperparameters for Model\n",
        "train_dataset = DatasetClass(X_train, y_train, tokenizer)\n",
        "test_dataset = DatasetClass(X_test, y_test, tokenizer)\n",
        "\n",
        "args = TrainingArguments(\n",
        "    output_dir='./model',\n",
        "    num_train_epochs=3,\n",
        "    per_device_train_batch_size=4,\n",
        "    per_device_eval_batch_size=4,\n",
        "    do_eval=True,\n",
        "    logging_dir='./logs',\n",
        "    logging_steps=50,\n",
        "    save_steps=500,\n",
        "    save_total_limit=1,\n",
        ")\n",
        "\n",
        "trainer = Trainer(\n",
        "    model=model,\n",
        "    args=args,\n",
        "    train_dataset=train_dataset,\n",
        "    eval_dataset=test_dataset,\n",
        ")"
      ]
    },
    {
      "cell_type": "markdown",
      "metadata": {
        "id": "aNJNn2lB05VR"
      },
      "source": [
        "## Train beginning\n",
        "Trainer.train() begins the model training."
      ]
    },
    {
      "cell_type": "code",
      "execution_count": null,
      "metadata": {
        "colab": {
          "base_uri": "https://localhost:8080/",
          "height": 127
        },
        "id": "2-NdYwTK-LOz",
        "outputId": "b0c3f0ca-a437-4dc2-9117-026a35814c91"
      },
      "outputs": [
        {
          "data": {
            "text/html": [
              "\n",
              "    <div>\n",
              "      \n",
              "      <progress value='3462' max='3462' style='width:300px; height:20px; vertical-align: middle;'></progress>\n",
              "      [3462/3462 19:42, Epoch 1/1]\n",
              "    </div>\n",
              "    <table border=\"1\" class=\"dataframe\">\n",
              "  <thead>\n",
              " <tr style=\"text-align: left;\">\n",
              "      <th>Epoch</th>\n",
              "      <th>Training Loss</th>\n",
              "      <th>Validation Loss</th>\n",
              "      <th>Qwk</th>\n",
              "    </tr>\n",
              "  </thead>\n",
              "  <tbody>\n",
              "    <tr>\n",
              "      <td>1</td>\n",
              "      <td>0.863900</td>\n",
              "      <td>0.870456</td>\n",
              "      <td>0.482585</td>\n",
              "    </tr>\n",
              "  </tbody>\n",
              "</table><p>"
            ],
            "text/plain": [
              "<IPython.core.display.HTML object>"
            ]
          },
          "metadata": {},
          "output_type": "display_data"
        },
        {
          "data": {
            "text/html": [
              "\n",
              "    <div>\n",
              "      \n",
              "      <progress value='433' max='433' style='width:300px; height:20px; vertical-align: middle;'></progress>\n",
              "      [433/433 01:15]\n",
              "    </div>\n",
              "    "
            ],
            "text/plain": [
              "<IPython.core.display.HTML object>"
            ]
          },
          "metadata": {},
          "output_type": "display_data"
        }
      ],
      "source": [
        "#Begin training, make sure on GPU, Runtime -> Change Runtime Type -> T4 GPU\n",
        "trainer.train()"
      ]
    },
    {
      "cell_type": "markdown",
      "metadata": {
        "id": "Ql9D3T6v1Nio"
      },
      "source": [
        "## Model Loading\n",
        "These load a downloaded model back into the notebook, so we don't have to train a new model every time."
      ]
    },
    {
      "cell_type": "code",
      "execution_count": null,
      "metadata": {
        "id": "myblXdpAk6eZ"
      },
      "outputs": [],
      "source": [
        "model = AutoModelForSequenceClassification.from_pretrained(\"./model\")\n",
        "tokenizer = AutoTokenizer.from_pretrained(\"./model\")"
      ]
    },
    {
      "cell_type": "markdown",
      "metadata": {
        "id": "1EAyGjSa0plX"
      },
      "source": [
        "## ID Testing Function\n",
        "A little function for testing that given an essay id from the dataset, and returns the actual and predicted scores."
      ]
    },
    {
      "cell_type": "code",
      "execution_count": null,
      "metadata": {
        "colab": {
          "base_uri": "https://localhost:8080/"
        },
        "id": "i0HgB8srsVVX",
        "outputId": "3beb9660-08d1-4a68-d889-0fb99bd41bb2"
      },
      "outputs": [
        {
          "name": "stdout",
          "output_type": "stream",
          "text": [
            "Real Score: 3\n",
            "Predicted Score: 3\n"
          ]
        }
      ],
      "source": [
        "#Plug in any essay id and recieve the score the essay predicted\n",
        "def predict_score(id, model, tokenizer, file):\n",
        "  train = pd.read_csv(file)\n",
        "  row = train[train[\"essay_id\"] == id]\n",
        "  essay = row.iloc[0][\"full_text\"]\n",
        "  score = row.iloc[0][\"score\"]\n",
        "\n",
        "  device = next(model.parameters()).device\n",
        "\n",
        "  inputs = tokenizer(essay, truncation=True, padding=\"max_length\", max_length=512, return_tensors=\"pt\").to(device)\n",
        "\n",
        "  model.eval()\n",
        "  with torch.no_grad():\n",
        "        outputs = model(**inputs)\n",
        "        logits = outputs.logits\n",
        "        pred_label = torch.argmax(logits, dim=1).item()\n",
        "        predicted_score = pred_label + 1\n",
        "\n",
        "  return score, predicted_score\n",
        "\n",
        "id = \"000d118\"\n",
        "score, pscore = predict_score(id, model, tokenizer, \"/content/drive/My Drive/cs345 goog/train.csv\")\n",
        "print(\"Real Score:\", score)\n",
        "print(\"Predicted Score:\", pscore)"
      ]
    },
    {
      "cell_type": "markdown",
      "metadata": {
        "id": "AsPgY-HTWbZT"
      },
      "source": [
        "## Unseen Essay Prediction\n",
        "Given 3 of our own, non dataset essays, our DeBERTa model predicts scores for each."
      ]
    },
    {
      "cell_type": "code",
      "execution_count": null,
      "metadata": {
        "colab": {
          "base_uri": "https://localhost:8080/",
          "height": 270
        },
        "id": "Trd3k5IrTirx",
        "outputId": "cdf152fd-e63c-4150-8a15-2a59027df9bf"
      },
      "outputs": [
        {
          "data": {
            "application/vnd.google.colaboratory.intrinsic+json": {
              "summary": "{\n  \"name\": \"df\",\n  \"rows\": 3,\n  \"fields\": [\n    {\n      \"column\": \"essay_id\",\n      \"properties\": {\n        \"dtype\": \"number\",\n        \"std\": 1,\n        \"min\": 1,\n        \"max\": 3,\n        \"num_unique_values\": 3,\n        \"samples\": [\n          1,\n          2,\n          3\n        ],\n        \"semantic_type\": \"\",\n        \"description\": \"\"\n      }\n    },\n    {\n      \"column\": \"full_text\",\n      \"properties\": {\n        \"dtype\": \"string\",\n        \"num_unique_values\": 3,\n        \"samples\": [\n          \"On February 21, I had the pleasure of attending the CSU Wind Symphony\\u2019s Spain Concert Tour at Griffin Concert Hall on campus. The concert was led by Dr. Rebecca Phillips, the director of bands for CSU, who did a great job of giving context to each performance, performer, and established group for each section of the ~2 hour long production. From the start, the wind symphony blew me away with their unique sound. This comes from instruments like the flute, bassoon, clarinet, oboe, trumpet, french horn, trombone, tuba, and various percussion including bass drum, woodblock, timpani. With a symphony composed of these instruments, it was unlike any live music I\\u2019ve ever heard, likely due to only being familiar with traditional, brass, and percussion bands. The program featured \\u201cAmericana\\u201d works including music from John Philip Sousa, John Williams, and CSU faculty composers Kevin Poelking and James M. David. It also included special guests: Wesley Ferreira, a music professor at CSU, who performed Daniel Freiberg\\u2019s Latin American Chronicles with his Clarinet, and Patricia Goble, a former Broadway performer and theater professor at CSU, who performed an impressive opera rendition of the childhood lullaby Goodnight Moon. Freiberg was a demon on that Clarinet, I had no idea you could be so expressive with a woodwind instrument like that. His mastery and expressiveness blended perfectly with the symphony\\u2019s accompaniment as well. Patricia Goble\\u2019s performance was the highlight of the concert for me. I particularly like pieces with vocals, and Goble\\u2019s vocals were amazing. The Griffin Concert Hall was the perfect place for the Wind Symphony to play, the architecture allowed for a clear sound to fill the hall. Even being in one of the back rows, I could still feel everything from the performance, being able to appreciate the clear piercing of the woodwinds to the depth of the brass section. When applying Aaron Copland\\u2019s three planes of musical listening, sensuousness, expressiveness, and sheerly musical, I can see what was so impactful about the Wind Symphony\\u2019s sound. For the sensuous plane, I can recall the harmonic and somewhat somber timbres of the symphony, in their first piece by John Philip Sousa. The expressive plane could be felt in Goodnight Moon, with Patricia Goble\\u2019s vocals along with the accompanying instruments allowing me to emotionally connect with the song. Finally, with the sheerly musical plane, the technical prowess of the brass section, specifically the trumpets as I used to play one, was pure art to me. Overall, getting a reason (this class) to go to an event like this was much more exciting than I thought. The CSU Wind Symphony\\u2019s program was certainly an unforgettable experience, blending traditional and contemporary works together, along with seriously impressive solo acts and Dr. Rebecca Phillips doing a great job narrating the whole thing. The concert not only showcased our Wind Symphony\\u2019s incredible talent, but also developed my understanding and respect of wind ensembles and traditional concerts.\",\n          \"Prompted to find a visual source for my research question, which is currently: what are the public\\u2019s concerns and ideas about regulation for artificial intelligence, a quick google search found me many to choose from. With the criteria to find a relevant and credible visual source I looked up the keywords AI regulation concerns then moved to the images tab. There were plenty of relevant images, but one specific source caught my eye. My visual source is found on Spiceworks.com which after a bit of research seems to be mostly an IT software company that also hosts tech news articles on their website. With even more research, spiceworks seems to be liked by their users, with a pretty good reputation for tech news, so I\\u2019d say it\\u2019s a credible source. Turning to the image, I believe it contains many possible arguments to be made about AI concerns and regulation. The icons above the gravel are interpretive, as the symbols can be multiple things. Like the one of the magnifier on the piece of paper could represent fact checking, is it concerning for the reader that AI is being used to fact check? The image also includes a robotic arm holding a gravel, which is again, interpretive as to its meaning. An argument that I came up with is: does AI belong in these professions? If so, should there be regulations in place? What kind?\\n The ideal visual source for my argument based on my current research would be something that contains: the words AI or a representation of it, a concerning ethical scenario, and a piece of law making material like the gravel or a courtroom.  I think that a visual source like this would be perfect for my argument because it covers each point of the actual written phrase but in visual form. It also needs to be interpretive to get the discussion point across, what are the opinions on AI surrounding regulation?\\nAn update on my research process so far. Things have been going smoothly, no major roadblocks with my research question or research in general. Although creating arguments has been difficult because I don\\u2019t have a very strong opinion yet for either side of the artificial intelligence debate. I have knowledge about AI, but more on the implementation side of it, and less on the ethical law making side. That's what research is for I guess though. My next step is to look for better visual sources, research ethics of AI and try to form an opinion for an argument. I will be ready to draft this paper in 3-4 weeks.\",\n          \"The moral theory I would program into an AI would be Kantian ethics because it is the best choice for all humans, and to prevent the AI from having any scary resolutions. The advantages Kantian ethics has for AI are ideas like morality guiding all of its decisions, the concept that morality is universal, and treating each person as having intrinsic value. Disadvantages would include not being as progressive as a moral theory like Utilitarianism would be, the AI would sometimes be more concerned with being morally right then completing a task, which could be kind of annoying for some people. I would solve the problems by adding conditions where the morally could be bypassed for the AI in order for it to do whatever really important thing it would have to do.\"\n        ],\n        \"semantic_type\": \"\",\n        \"description\": \"\"\n      }\n    }\n  ]\n}",
              "type": "dataframe",
              "variable_name": "df"
            },
            "text/html": [
              "\n",
              "  <div id=\"df-ac059fd0-ece3-42c9-940f-abf108a4da60\" class=\"colab-df-container\">\n",
              "    <div>\n",
              "<style scoped>\n",
              "    .dataframe tbody tr th:only-of-type {\n",
              "        vertical-align: middle;\n",
              "    }\n",
              "\n",
              "    .dataframe tbody tr th {\n",
              "        vertical-align: top;\n",
              "    }\n",
              "\n",
              "    .dataframe thead th {\n",
              "        text-align: right;\n",
              "    }\n",
              "</style>\n",
              "<table border=\"1\" class=\"dataframe\">\n",
              "  <thead>\n",
              "    <tr style=\"text-align: right;\">\n",
              "      <th></th>\n",
              "      <th>essay_id</th>\n",
              "      <th>full_text</th>\n",
              "    </tr>\n",
              "  </thead>\n",
              "  <tbody>\n",
              "    <tr>\n",
              "      <th>0</th>\n",
              "      <td>1</td>\n",
              "      <td>On February 21, I had the pleasure of attendin...</td>\n",
              "    </tr>\n",
              "    <tr>\n",
              "      <th>1</th>\n",
              "      <td>2</td>\n",
              "      <td>Prompted to find a visual source for my resear...</td>\n",
              "    </tr>\n",
              "    <tr>\n",
              "      <th>2</th>\n",
              "      <td>3</td>\n",
              "      <td>The moral theory I would program into an AI wo...</td>\n",
              "    </tr>\n",
              "  </tbody>\n",
              "</table>\n",
              "</div>\n",
              "    <div class=\"colab-df-buttons\">\n",
              "\n",
              "  <div class=\"colab-df-container\">\n",
              "    <button class=\"colab-df-convert\" onclick=\"convertToInteractive('df-ac059fd0-ece3-42c9-940f-abf108a4da60')\"\n",
              "            title=\"Convert this dataframe to an interactive table.\"\n",
              "            style=\"display:none;\">\n",
              "\n",
              "  <svg xmlns=\"http://www.w3.org/2000/svg\" height=\"24px\" viewBox=\"0 -960 960 960\">\n",
              "    <path d=\"M120-120v-720h720v720H120Zm60-500h600v-160H180v160Zm220 220h160v-160H400v160Zm0 220h160v-160H400v160ZM180-400h160v-160H180v160Zm440 0h160v-160H620v160ZM180-180h160v-160H180v160Zm440 0h160v-160H620v160Z\"/>\n",
              "  </svg>\n",
              "    </button>\n",
              "\n",
              "  <style>\n",
              "    .colab-df-container {\n",
              "      display:flex;\n",
              "      gap: 12px;\n",
              "    }\n",
              "\n",
              "    .colab-df-convert {\n",
              "      background-color: #E8F0FE;\n",
              "      border: none;\n",
              "      border-radius: 50%;\n",
              "      cursor: pointer;\n",
              "      display: none;\n",
              "      fill: #1967D2;\n",
              "      height: 32px;\n",
              "      padding: 0 0 0 0;\n",
              "      width: 32px;\n",
              "    }\n",
              "\n",
              "    .colab-df-convert:hover {\n",
              "      background-color: #E2EBFA;\n",
              "      box-shadow: 0px 1px 2px rgba(60, 64, 67, 0.3), 0px 1px 3px 1px rgba(60, 64, 67, 0.15);\n",
              "      fill: #174EA6;\n",
              "    }\n",
              "\n",
              "    .colab-df-buttons div {\n",
              "      margin-bottom: 4px;\n",
              "    }\n",
              "\n",
              "    [theme=dark] .colab-df-convert {\n",
              "      background-color: #3B4455;\n",
              "      fill: #D2E3FC;\n",
              "    }\n",
              "\n",
              "    [theme=dark] .colab-df-convert:hover {\n",
              "      background-color: #434B5C;\n",
              "      box-shadow: 0px 1px 3px 1px rgba(0, 0, 0, 0.15);\n",
              "      filter: drop-shadow(0px 1px 2px rgba(0, 0, 0, 0.3));\n",
              "      fill: #FFFFFF;\n",
              "    }\n",
              "  </style>\n",
              "\n",
              "    <script>\n",
              "      const buttonEl =\n",
              "        document.querySelector('#df-ac059fd0-ece3-42c9-940f-abf108a4da60 button.colab-df-convert');\n",
              "      buttonEl.style.display =\n",
              "        google.colab.kernel.accessAllowed ? 'block' : 'none';\n",
              "\n",
              "      async function convertToInteractive(key) {\n",
              "        const element = document.querySelector('#df-ac059fd0-ece3-42c9-940f-abf108a4da60');\n",
              "        const dataTable =\n",
              "          await google.colab.kernel.invokeFunction('convertToInteractive',\n",
              "                                                    [key], {});\n",
              "        if (!dataTable) return;\n",
              "\n",
              "        const docLinkHtml = 'Like what you see? Visit the ' +\n",
              "          '<a target=\"_blank\" href=https://colab.research.google.com/notebooks/data_table.ipynb>data table notebook</a>'\n",
              "          + ' to learn more about interactive tables.';\n",
              "        element.innerHTML = '';\n",
              "        dataTable['output_type'] = 'display_data';\n",
              "        await google.colab.output.renderOutput(dataTable, element);\n",
              "        const docLink = document.createElement('div');\n",
              "        docLink.innerHTML = docLinkHtml;\n",
              "        element.appendChild(docLink);\n",
              "      }\n",
              "    </script>\n",
              "  </div>\n",
              "\n",
              "\n",
              "    <div id=\"df-267cf97e-d98a-499f-91a8-cb0edd38d603\">\n",
              "      <button class=\"colab-df-quickchart\" onclick=\"quickchart('df-267cf97e-d98a-499f-91a8-cb0edd38d603')\"\n",
              "                title=\"Suggest charts\"\n",
              "                style=\"display:none;\">\n",
              "\n",
              "<svg xmlns=\"http://www.w3.org/2000/svg\" height=\"24px\"viewBox=\"0 0 24 24\"\n",
              "     width=\"24px\">\n",
              "    <g>\n",
              "        <path d=\"M19 3H5c-1.1 0-2 .9-2 2v14c0 1.1.9 2 2 2h14c1.1 0 2-.9 2-2V5c0-1.1-.9-2-2-2zM9 17H7v-7h2v7zm4 0h-2V7h2v10zm4 0h-2v-4h2v4z\"/>\n",
              "    </g>\n",
              "</svg>\n",
              "      </button>\n",
              "\n",
              "<style>\n",
              "  .colab-df-quickchart {\n",
              "      --bg-color: #E8F0FE;\n",
              "      --fill-color: #1967D2;\n",
              "      --hover-bg-color: #E2EBFA;\n",
              "      --hover-fill-color: #174EA6;\n",
              "      --disabled-fill-color: #AAA;\n",
              "      --disabled-bg-color: #DDD;\n",
              "  }\n",
              "\n",
              "  [theme=dark] .colab-df-quickchart {\n",
              "      --bg-color: #3B4455;\n",
              "      --fill-color: #D2E3FC;\n",
              "      --hover-bg-color: #434B5C;\n",
              "      --hover-fill-color: #FFFFFF;\n",
              "      --disabled-bg-color: #3B4455;\n",
              "      --disabled-fill-color: #666;\n",
              "  }\n",
              "\n",
              "  .colab-df-quickchart {\n",
              "    background-color: var(--bg-color);\n",
              "    border: none;\n",
              "    border-radius: 50%;\n",
              "    cursor: pointer;\n",
              "    display: none;\n",
              "    fill: var(--fill-color);\n",
              "    height: 32px;\n",
              "    padding: 0;\n",
              "    width: 32px;\n",
              "  }\n",
              "\n",
              "  .colab-df-quickchart:hover {\n",
              "    background-color: var(--hover-bg-color);\n",
              "    box-shadow: 0 1px 2px rgba(60, 64, 67, 0.3), 0 1px 3px 1px rgba(60, 64, 67, 0.15);\n",
              "    fill: var(--button-hover-fill-color);\n",
              "  }\n",
              "\n",
              "  .colab-df-quickchart-complete:disabled,\n",
              "  .colab-df-quickchart-complete:disabled:hover {\n",
              "    background-color: var(--disabled-bg-color);\n",
              "    fill: var(--disabled-fill-color);\n",
              "    box-shadow: none;\n",
              "  }\n",
              "\n",
              "  .colab-df-spinner {\n",
              "    border: 2px solid var(--fill-color);\n",
              "    border-color: transparent;\n",
              "    border-bottom-color: var(--fill-color);\n",
              "    animation:\n",
              "      spin 1s steps(1) infinite;\n",
              "  }\n",
              "\n",
              "  @keyframes spin {\n",
              "    0% {\n",
              "      border-color: transparent;\n",
              "      border-bottom-color: var(--fill-color);\n",
              "      border-left-color: var(--fill-color);\n",
              "    }\n",
              "    20% {\n",
              "      border-color: transparent;\n",
              "      border-left-color: var(--fill-color);\n",
              "      border-top-color: var(--fill-color);\n",
              "    }\n",
              "    30% {\n",
              "      border-color: transparent;\n",
              "      border-left-color: var(--fill-color);\n",
              "      border-top-color: var(--fill-color);\n",
              "      border-right-color: var(--fill-color);\n",
              "    }\n",
              "    40% {\n",
              "      border-color: transparent;\n",
              "      border-right-color: var(--fill-color);\n",
              "      border-top-color: var(--fill-color);\n",
              "    }\n",
              "    60% {\n",
              "      border-color: transparent;\n",
              "      border-right-color: var(--fill-color);\n",
              "    }\n",
              "    80% {\n",
              "      border-color: transparent;\n",
              "      border-right-color: var(--fill-color);\n",
              "      border-bottom-color: var(--fill-color);\n",
              "    }\n",
              "    90% {\n",
              "      border-color: transparent;\n",
              "      border-bottom-color: var(--fill-color);\n",
              "    }\n",
              "  }\n",
              "</style>\n",
              "\n",
              "      <script>\n",
              "        async function quickchart(key) {\n",
              "          const quickchartButtonEl =\n",
              "            document.querySelector('#' + key + ' button');\n",
              "          quickchartButtonEl.disabled = true;  // To prevent multiple clicks.\n",
              "          quickchartButtonEl.classList.add('colab-df-spinner');\n",
              "          try {\n",
              "            const charts = await google.colab.kernel.invokeFunction(\n",
              "                'suggestCharts', [key], {});\n",
              "          } catch (error) {\n",
              "            console.error('Error during call to suggestCharts:', error);\n",
              "          }\n",
              "          quickchartButtonEl.classList.remove('colab-df-spinner');\n",
              "          quickchartButtonEl.classList.add('colab-df-quickchart-complete');\n",
              "        }\n",
              "        (() => {\n",
              "          let quickchartButtonEl =\n",
              "            document.querySelector('#df-267cf97e-d98a-499f-91a8-cb0edd38d603 button');\n",
              "          quickchartButtonEl.style.display =\n",
              "            google.colab.kernel.accessAllowed ? 'block' : 'none';\n",
              "        })();\n",
              "      </script>\n",
              "    </div>\n",
              "\n",
              "  <div id=\"id_af93c7d5-6314-42db-83fc-4255d978ec46\">\n",
              "    <style>\n",
              "      .colab-df-generate {\n",
              "        background-color: #E8F0FE;\n",
              "        border: none;\n",
              "        border-radius: 50%;\n",
              "        cursor: pointer;\n",
              "        display: none;\n",
              "        fill: #1967D2;\n",
              "        height: 32px;\n",
              "        padding: 0 0 0 0;\n",
              "        width: 32px;\n",
              "      }\n",
              "\n",
              "      .colab-df-generate:hover {\n",
              "        background-color: #E2EBFA;\n",
              "        box-shadow: 0px 1px 2px rgba(60, 64, 67, 0.3), 0px 1px 3px 1px rgba(60, 64, 67, 0.15);\n",
              "        fill: #174EA6;\n",
              "      }\n",
              "\n",
              "      [theme=dark] .colab-df-generate {\n",
              "        background-color: #3B4455;\n",
              "        fill: #D2E3FC;\n",
              "      }\n",
              "\n",
              "      [theme=dark] .colab-df-generate:hover {\n",
              "        background-color: #434B5C;\n",
              "        box-shadow: 0px 1px 3px 1px rgba(0, 0, 0, 0.15);\n",
              "        filter: drop-shadow(0px 1px 2px rgba(0, 0, 0, 0.3));\n",
              "        fill: #FFFFFF;\n",
              "      }\n",
              "    </style>\n",
              "    <button class=\"colab-df-generate\" onclick=\"generateWithVariable('df')\"\n",
              "            title=\"Generate code using this dataframe.\"\n",
              "            style=\"display:none;\">\n",
              "\n",
              "  <svg xmlns=\"http://www.w3.org/2000/svg\" height=\"24px\"viewBox=\"0 0 24 24\"\n",
              "       width=\"24px\">\n",
              "    <path d=\"M7,19H8.4L18.45,9,17,7.55,7,17.6ZM5,21V16.75L18.45,3.32a2,2,0,0,1,2.83,0l1.4,1.43a1.91,1.91,0,0,1,.58,1.4,1.91,1.91,0,0,1-.58,1.4L9.25,21ZM18.45,9,17,7.55Zm-12,3A5.31,5.31,0,0,0,4.9,8.1,5.31,5.31,0,0,0,1,6.5,5.31,5.31,0,0,0,4.9,4.9,5.31,5.31,0,0,0,6.5,1,5.31,5.31,0,0,0,8.1,4.9,5.31,5.31,0,0,0,12,6.5,5.46,5.46,0,0,0,6.5,12Z\"/>\n",
              "  </svg>\n",
              "    </button>\n",
              "    <script>\n",
              "      (() => {\n",
              "      const buttonEl =\n",
              "        document.querySelector('#id_af93c7d5-6314-42db-83fc-4255d978ec46 button.colab-df-generate');\n",
              "      buttonEl.style.display =\n",
              "        google.colab.kernel.accessAllowed ? 'block' : 'none';\n",
              "\n",
              "      buttonEl.onclick = () => {\n",
              "        google.colab.notebook.generateWithVariable('df');\n",
              "      }\n",
              "      })();\n",
              "    </script>\n",
              "  </div>\n",
              "\n",
              "    </div>\n",
              "  </div>\n"
            ],
            "text/plain": [
              "   essay_id                                          full_text\n",
              "0         1  On February 21, I had the pleasure of attendin...\n",
              "1         2  Prompted to find a visual source for my resear...\n",
              "2         3  The moral theory I would program into an AI wo..."
            ]
          },
          "metadata": {},
          "output_type": "display_data"
        },
        {
          "data": {
            "application/vnd.google.colaboratory.intrinsic+json": {
              "summary": "{\n  \"name\": \"df\",\n  \"rows\": 3,\n  \"fields\": [\n    {\n      \"column\": \"essay_id\",\n      \"properties\": {\n        \"dtype\": \"number\",\n        \"std\": 1,\n        \"min\": 1,\n        \"max\": 3,\n        \"num_unique_values\": 3,\n        \"samples\": [\n          1,\n          2,\n          3\n        ],\n        \"semantic_type\": \"\",\n        \"description\": \"\"\n      }\n    },\n    {\n      \"column\": \"full_text\",\n      \"properties\": {\n        \"dtype\": \"string\",\n        \"num_unique_values\": 3,\n        \"samples\": [\n          \"On February 21, I had the pleasure of attending the CSU Wind Symphony\\u2019s Spain Concert Tour at Griffin Concert Hall on campus. The concert was led by Dr. Rebecca Phillips, the director of bands for CSU, who did a great job of giving context to each performance, performer, and established group for each section of the ~2 hour long production. From the start, the wind symphony blew me away with their unique sound. This comes from instruments like the flute, bassoon, clarinet, oboe, trumpet, french horn, trombone, tuba, and various percussion including bass drum, woodblock, timpani. With a symphony composed of these instruments, it was unlike any live music I\\u2019ve ever heard, likely due to only being familiar with traditional, brass, and percussion bands. The program featured \\u201cAmericana\\u201d works including music from John Philip Sousa, John Williams, and CSU faculty composers Kevin Poelking and James M. David. It also included special guests: Wesley Ferreira, a music professor at CSU, who performed Daniel Freiberg\\u2019s Latin American Chronicles with his Clarinet, and Patricia Goble, a former Broadway performer and theater professor at CSU, who performed an impressive opera rendition of the childhood lullaby Goodnight Moon. Freiberg was a demon on that Clarinet, I had no idea you could be so expressive with a woodwind instrument like that. His mastery and expressiveness blended perfectly with the symphony\\u2019s accompaniment as well. Patricia Goble\\u2019s performance was the highlight of the concert for me. I particularly like pieces with vocals, and Goble\\u2019s vocals were amazing. The Griffin Concert Hall was the perfect place for the Wind Symphony to play, the architecture allowed for a clear sound to fill the hall. Even being in one of the back rows, I could still feel everything from the performance, being able to appreciate the clear piercing of the woodwinds to the depth of the brass section. When applying Aaron Copland\\u2019s three planes of musical listening, sensuousness, expressiveness, and sheerly musical, I can see what was so impactful about the Wind Symphony\\u2019s sound. For the sensuous plane, I can recall the harmonic and somewhat somber timbres of the symphony, in their first piece by John Philip Sousa. The expressive plane could be felt in Goodnight Moon, with Patricia Goble\\u2019s vocals along with the accompanying instruments allowing me to emotionally connect with the song. Finally, with the sheerly musical plane, the technical prowess of the brass section, specifically the trumpets as I used to play one, was pure art to me. Overall, getting a reason (this class) to go to an event like this was much more exciting than I thought. The CSU Wind Symphony\\u2019s program was certainly an unforgettable experience, blending traditional and contemporary works together, along with seriously impressive solo acts and Dr. Rebecca Phillips doing a great job narrating the whole thing. The concert not only showcased our Wind Symphony\\u2019s incredible talent, but also developed my understanding and respect of wind ensembles and traditional concerts.\",\n          \"Prompted to find a visual source for my research question, which is currently: what are the public\\u2019s concerns and ideas about regulation for artificial intelligence, a quick google search found me many to choose from. With the criteria to find a relevant and credible visual source I looked up the keywords AI regulation concerns then moved to the images tab. There were plenty of relevant images, but one specific source caught my eye. My visual source is found on Spiceworks.com which after a bit of research seems to be mostly an IT software company that also hosts tech news articles on their website. With even more research, spiceworks seems to be liked by their users, with a pretty good reputation for tech news, so I\\u2019d say it\\u2019s a credible source. Turning to the image, I believe it contains many possible arguments to be made about AI concerns and regulation. The icons above the gravel are interpretive, as the symbols can be multiple things. Like the one of the magnifier on the piece of paper could represent fact checking, is it concerning for the reader that AI is being used to fact check? The image also includes a robotic arm holding a gravel, which is again, interpretive as to its meaning. An argument that I came up with is: does AI belong in these professions? If so, should there be regulations in place? What kind?\\n The ideal visual source for my argument based on my current research would be something that contains: the words AI or a representation of it, a concerning ethical scenario, and a piece of law making material like the gravel or a courtroom.  I think that a visual source like this would be perfect for my argument because it covers each point of the actual written phrase but in visual form. It also needs to be interpretive to get the discussion point across, what are the opinions on AI surrounding regulation?\\nAn update on my research process so far. Things have been going smoothly, no major roadblocks with my research question or research in general. Although creating arguments has been difficult because I don\\u2019t have a very strong opinion yet for either side of the artificial intelligence debate. I have knowledge about AI, but more on the implementation side of it, and less on the ethical law making side. That's what research is for I guess though. My next step is to look for better visual sources, research ethics of AI and try to form an opinion for an argument. I will be ready to draft this paper in 3-4 weeks.\",\n          \"The moral theory I would program into an AI would be Kantian ethics because it is the best choice for all humans, and to prevent the AI from having any scary resolutions. The advantages Kantian ethics has for AI are ideas like morality guiding all of its decisions, the concept that morality is universal, and treating each person as having intrinsic value. Disadvantages would include not being as progressive as a moral theory like Utilitarianism would be, the AI would sometimes be more concerned with being morally right then completing a task, which could be kind of annoying for some people. I would solve the problems by adding conditions where the morally could be bypassed for the AI in order for it to do whatever really important thing it would have to do.\"\n        ],\n        \"semantic_type\": \"\",\n        \"description\": \"\"\n      }\n    },\n    {\n      \"column\": \"predicted_score\",\n      \"properties\": {\n        \"dtype\": \"number\",\n        \"std\": 1,\n        \"min\": 2,\n        \"max\": 4,\n        \"num_unique_values\": 2,\n        \"samples\": [\n          2,\n          4\n        ],\n        \"semantic_type\": \"\",\n        \"description\": \"\"\n      }\n    }\n  ]\n}",
              "type": "dataframe",
              "variable_name": "df"
            },
            "text/html": [
              "\n",
              "  <div id=\"df-7ffeadef-7b87-4f43-86b8-0e43f0d5bd97\" class=\"colab-df-container\">\n",
              "    <div>\n",
              "<style scoped>\n",
              "    .dataframe tbody tr th:only-of-type {\n",
              "        vertical-align: middle;\n",
              "    }\n",
              "\n",
              "    .dataframe tbody tr th {\n",
              "        vertical-align: top;\n",
              "    }\n",
              "\n",
              "    .dataframe thead th {\n",
              "        text-align: right;\n",
              "    }\n",
              "</style>\n",
              "<table border=\"1\" class=\"dataframe\">\n",
              "  <thead>\n",
              "    <tr style=\"text-align: right;\">\n",
              "      <th></th>\n",
              "      <th>essay_id</th>\n",
              "      <th>full_text</th>\n",
              "      <th>predicted_score</th>\n",
              "    </tr>\n",
              "  </thead>\n",
              "  <tbody>\n",
              "    <tr>\n",
              "      <th>0</th>\n",
              "      <td>1</td>\n",
              "      <td>On February 21, I had the pleasure of attendin...</td>\n",
              "      <td>4</td>\n",
              "    </tr>\n",
              "    <tr>\n",
              "      <th>1</th>\n",
              "      <td>2</td>\n",
              "      <td>Prompted to find a visual source for my resear...</td>\n",
              "      <td>4</td>\n",
              "    </tr>\n",
              "    <tr>\n",
              "      <th>2</th>\n",
              "      <td>3</td>\n",
              "      <td>The moral theory I would program into an AI wo...</td>\n",
              "      <td>2</td>\n",
              "    </tr>\n",
              "  </tbody>\n",
              "</table>\n",
              "</div>\n",
              "    <div class=\"colab-df-buttons\">\n",
              "\n",
              "  <div class=\"colab-df-container\">\n",
              "    <button class=\"colab-df-convert\" onclick=\"convertToInteractive('df-7ffeadef-7b87-4f43-86b8-0e43f0d5bd97')\"\n",
              "            title=\"Convert this dataframe to an interactive table.\"\n",
              "            style=\"display:none;\">\n",
              "\n",
              "  <svg xmlns=\"http://www.w3.org/2000/svg\" height=\"24px\" viewBox=\"0 -960 960 960\">\n",
              "    <path d=\"M120-120v-720h720v720H120Zm60-500h600v-160H180v160Zm220 220h160v-160H400v160Zm0 220h160v-160H400v160ZM180-400h160v-160H180v160Zm440 0h160v-160H620v160ZM180-180h160v-160H180v160Zm440 0h160v-160H620v160Z\"/>\n",
              "  </svg>\n",
              "    </button>\n",
              "\n",
              "  <style>\n",
              "    .colab-df-container {\n",
              "      display:flex;\n",
              "      gap: 12px;\n",
              "    }\n",
              "\n",
              "    .colab-df-convert {\n",
              "      background-color: #E8F0FE;\n",
              "      border: none;\n",
              "      border-radius: 50%;\n",
              "      cursor: pointer;\n",
              "      display: none;\n",
              "      fill: #1967D2;\n",
              "      height: 32px;\n",
              "      padding: 0 0 0 0;\n",
              "      width: 32px;\n",
              "    }\n",
              "\n",
              "    .colab-df-convert:hover {\n",
              "      background-color: #E2EBFA;\n",
              "      box-shadow: 0px 1px 2px rgba(60, 64, 67, 0.3), 0px 1px 3px 1px rgba(60, 64, 67, 0.15);\n",
              "      fill: #174EA6;\n",
              "    }\n",
              "\n",
              "    .colab-df-buttons div {\n",
              "      margin-bottom: 4px;\n",
              "    }\n",
              "\n",
              "    [theme=dark] .colab-df-convert {\n",
              "      background-color: #3B4455;\n",
              "      fill: #D2E3FC;\n",
              "    }\n",
              "\n",
              "    [theme=dark] .colab-df-convert:hover {\n",
              "      background-color: #434B5C;\n",
              "      box-shadow: 0px 1px 3px 1px rgba(0, 0, 0, 0.15);\n",
              "      filter: drop-shadow(0px 1px 2px rgba(0, 0, 0, 0.3));\n",
              "      fill: #FFFFFF;\n",
              "    }\n",
              "  </style>\n",
              "\n",
              "    <script>\n",
              "      const buttonEl =\n",
              "        document.querySelector('#df-7ffeadef-7b87-4f43-86b8-0e43f0d5bd97 button.colab-df-convert');\n",
              "      buttonEl.style.display =\n",
              "        google.colab.kernel.accessAllowed ? 'block' : 'none';\n",
              "\n",
              "      async function convertToInteractive(key) {\n",
              "        const element = document.querySelector('#df-7ffeadef-7b87-4f43-86b8-0e43f0d5bd97');\n",
              "        const dataTable =\n",
              "          await google.colab.kernel.invokeFunction('convertToInteractive',\n",
              "                                                    [key], {});\n",
              "        if (!dataTable) return;\n",
              "\n",
              "        const docLinkHtml = 'Like what you see? Visit the ' +\n",
              "          '<a target=\"_blank\" href=https://colab.research.google.com/notebooks/data_table.ipynb>data table notebook</a>'\n",
              "          + ' to learn more about interactive tables.';\n",
              "        element.innerHTML = '';\n",
              "        dataTable['output_type'] = 'display_data';\n",
              "        await google.colab.output.renderOutput(dataTable, element);\n",
              "        const docLink = document.createElement('div');\n",
              "        docLink.innerHTML = docLinkHtml;\n",
              "        element.appendChild(docLink);\n",
              "      }\n",
              "    </script>\n",
              "  </div>\n",
              "\n",
              "\n",
              "    <div id=\"df-a4453890-4afb-487a-bcdd-c0e6a77be199\">\n",
              "      <button class=\"colab-df-quickchart\" onclick=\"quickchart('df-a4453890-4afb-487a-bcdd-c0e6a77be199')\"\n",
              "                title=\"Suggest charts\"\n",
              "                style=\"display:none;\">\n",
              "\n",
              "<svg xmlns=\"http://www.w3.org/2000/svg\" height=\"24px\"viewBox=\"0 0 24 24\"\n",
              "     width=\"24px\">\n",
              "    <g>\n",
              "        <path d=\"M19 3H5c-1.1 0-2 .9-2 2v14c0 1.1.9 2 2 2h14c1.1 0 2-.9 2-2V5c0-1.1-.9-2-2-2zM9 17H7v-7h2v7zm4 0h-2V7h2v10zm4 0h-2v-4h2v4z\"/>\n",
              "    </g>\n",
              "</svg>\n",
              "      </button>\n",
              "\n",
              "<style>\n",
              "  .colab-df-quickchart {\n",
              "      --bg-color: #E8F0FE;\n",
              "      --fill-color: #1967D2;\n",
              "      --hover-bg-color: #E2EBFA;\n",
              "      --hover-fill-color: #174EA6;\n",
              "      --disabled-fill-color: #AAA;\n",
              "      --disabled-bg-color: #DDD;\n",
              "  }\n",
              "\n",
              "  [theme=dark] .colab-df-quickchart {\n",
              "      --bg-color: #3B4455;\n",
              "      --fill-color: #D2E3FC;\n",
              "      --hover-bg-color: #434B5C;\n",
              "      --hover-fill-color: #FFFFFF;\n",
              "      --disabled-bg-color: #3B4455;\n",
              "      --disabled-fill-color: #666;\n",
              "  }\n",
              "\n",
              "  .colab-df-quickchart {\n",
              "    background-color: var(--bg-color);\n",
              "    border: none;\n",
              "    border-radius: 50%;\n",
              "    cursor: pointer;\n",
              "    display: none;\n",
              "    fill: var(--fill-color);\n",
              "    height: 32px;\n",
              "    padding: 0;\n",
              "    width: 32px;\n",
              "  }\n",
              "\n",
              "  .colab-df-quickchart:hover {\n",
              "    background-color: var(--hover-bg-color);\n",
              "    box-shadow: 0 1px 2px rgba(60, 64, 67, 0.3), 0 1px 3px 1px rgba(60, 64, 67, 0.15);\n",
              "    fill: var(--button-hover-fill-color);\n",
              "  }\n",
              "\n",
              "  .colab-df-quickchart-complete:disabled,\n",
              "  .colab-df-quickchart-complete:disabled:hover {\n",
              "    background-color: var(--disabled-bg-color);\n",
              "    fill: var(--disabled-fill-color);\n",
              "    box-shadow: none;\n",
              "  }\n",
              "\n",
              "  .colab-df-spinner {\n",
              "    border: 2px solid var(--fill-color);\n",
              "    border-color: transparent;\n",
              "    border-bottom-color: var(--fill-color);\n",
              "    animation:\n",
              "      spin 1s steps(1) infinite;\n",
              "  }\n",
              "\n",
              "  @keyframes spin {\n",
              "    0% {\n",
              "      border-color: transparent;\n",
              "      border-bottom-color: var(--fill-color);\n",
              "      border-left-color: var(--fill-color);\n",
              "    }\n",
              "    20% {\n",
              "      border-color: transparent;\n",
              "      border-left-color: var(--fill-color);\n",
              "      border-top-color: var(--fill-color);\n",
              "    }\n",
              "    30% {\n",
              "      border-color: transparent;\n",
              "      border-left-color: var(--fill-color);\n",
              "      border-top-color: var(--fill-color);\n",
              "      border-right-color: var(--fill-color);\n",
              "    }\n",
              "    40% {\n",
              "      border-color: transparent;\n",
              "      border-right-color: var(--fill-color);\n",
              "      border-top-color: var(--fill-color);\n",
              "    }\n",
              "    60% {\n",
              "      border-color: transparent;\n",
              "      border-right-color: var(--fill-color);\n",
              "    }\n",
              "    80% {\n",
              "      border-color: transparent;\n",
              "      border-right-color: var(--fill-color);\n",
              "      border-bottom-color: var(--fill-color);\n",
              "    }\n",
              "    90% {\n",
              "      border-color: transparent;\n",
              "      border-bottom-color: var(--fill-color);\n",
              "    }\n",
              "  }\n",
              "</style>\n",
              "\n",
              "      <script>\n",
              "        async function quickchart(key) {\n",
              "          const quickchartButtonEl =\n",
              "            document.querySelector('#' + key + ' button');\n",
              "          quickchartButtonEl.disabled = true;  // To prevent multiple clicks.\n",
              "          quickchartButtonEl.classList.add('colab-df-spinner');\n",
              "          try {\n",
              "            const charts = await google.colab.kernel.invokeFunction(\n",
              "                'suggestCharts', [key], {});\n",
              "          } catch (error) {\n",
              "            console.error('Error during call to suggestCharts:', error);\n",
              "          }\n",
              "          quickchartButtonEl.classList.remove('colab-df-spinner');\n",
              "          quickchartButtonEl.classList.add('colab-df-quickchart-complete');\n",
              "        }\n",
              "        (() => {\n",
              "          let quickchartButtonEl =\n",
              "            document.querySelector('#df-a4453890-4afb-487a-bcdd-c0e6a77be199 button');\n",
              "          quickchartButtonEl.style.display =\n",
              "            google.colab.kernel.accessAllowed ? 'block' : 'none';\n",
              "        })();\n",
              "      </script>\n",
              "    </div>\n",
              "\n",
              "  <div id=\"id_58ed3045-ad16-4577-9c64-8854e85fdde7\">\n",
              "    <style>\n",
              "      .colab-df-generate {\n",
              "        background-color: #E8F0FE;\n",
              "        border: none;\n",
              "        border-radius: 50%;\n",
              "        cursor: pointer;\n",
              "        display: none;\n",
              "        fill: #1967D2;\n",
              "        height: 32px;\n",
              "        padding: 0 0 0 0;\n",
              "        width: 32px;\n",
              "      }\n",
              "\n",
              "      .colab-df-generate:hover {\n",
              "        background-color: #E2EBFA;\n",
              "        box-shadow: 0px 1px 2px rgba(60, 64, 67, 0.3), 0px 1px 3px 1px rgba(60, 64, 67, 0.15);\n",
              "        fill: #174EA6;\n",
              "      }\n",
              "\n",
              "      [theme=dark] .colab-df-generate {\n",
              "        background-color: #3B4455;\n",
              "        fill: #D2E3FC;\n",
              "      }\n",
              "\n",
              "      [theme=dark] .colab-df-generate:hover {\n",
              "        background-color: #434B5C;\n",
              "        box-shadow: 0px 1px 3px 1px rgba(0, 0, 0, 0.15);\n",
              "        filter: drop-shadow(0px 1px 2px rgba(0, 0, 0, 0.3));\n",
              "        fill: #FFFFFF;\n",
              "      }\n",
              "    </style>\n",
              "    <button class=\"colab-df-generate\" onclick=\"generateWithVariable('df')\"\n",
              "            title=\"Generate code using this dataframe.\"\n",
              "            style=\"display:none;\">\n",
              "\n",
              "  <svg xmlns=\"http://www.w3.org/2000/svg\" height=\"24px\"viewBox=\"0 0 24 24\"\n",
              "       width=\"24px\">\n",
              "    <path d=\"M7,19H8.4L18.45,9,17,7.55,7,17.6ZM5,21V16.75L18.45,3.32a2,2,0,0,1,2.83,0l1.4,1.43a1.91,1.91,0,0,1,.58,1.4,1.91,1.91,0,0,1-.58,1.4L9.25,21ZM18.45,9,17,7.55Zm-12,3A5.31,5.31,0,0,0,4.9,8.1,5.31,5.31,0,0,0,1,6.5,5.31,5.31,0,0,0,4.9,4.9,5.31,5.31,0,0,0,6.5,1,5.31,5.31,0,0,0,8.1,4.9,5.31,5.31,0,0,0,12,6.5,5.46,5.46,0,0,0,6.5,12Z\"/>\n",
              "  </svg>\n",
              "    </button>\n",
              "    <script>\n",
              "      (() => {\n",
              "      const buttonEl =\n",
              "        document.querySelector('#id_58ed3045-ad16-4577-9c64-8854e85fdde7 button.colab-df-generate');\n",
              "      buttonEl.style.display =\n",
              "        google.colab.kernel.accessAllowed ? 'block' : 'none';\n",
              "\n",
              "      buttonEl.onclick = () => {\n",
              "        google.colab.notebook.generateWithVariable('df');\n",
              "      }\n",
              "      })();\n",
              "    </script>\n",
              "  </div>\n",
              "\n",
              "    </div>\n",
              "  </div>\n"
            ],
            "text/plain": [
              "   essay_id                                          full_text  \\\n",
              "0         1  On February 21, I had the pleasure of attendin...   \n",
              "1         2  Prompted to find a visual source for my resear...   \n",
              "2         3  The moral theory I would program into an AI wo...   \n",
              "\n",
              "   predicted_score  \n",
              "0                4  \n",
              "1                4  \n",
              "2                2  "
            ]
          },
          "metadata": {},
          "output_type": "display_data"
        }
      ],
      "source": [
        "import pandas as pd\n",
        "import torch\n",
        "from transformers import AutoTokenizer, AutoModelForSequenceClassification\n",
        "\n",
        "device = torch.device(\"cuda\" if torch.cuda.is_available() else \"cpu\")\n",
        "model = model.to(device)\n",
        "model.eval()\n",
        "\n",
        "df = pd.read_csv(\"/content/drive/My Drive/cs345 goog/predictions (2).csv\")\n",
        "essays = df[\"full_text\"].tolist()\n",
        "\n",
        "display(df)\n",
        "\n",
        "predictions = []\n",
        "\n",
        "for essay in essays:\n",
        "    inputs = tokenizer(essay, truncation=True, padding=\"max_length\", max_length=512, return_tensors=\"pt\")\n",
        "    inputs = {k: v.to(device) for k, v in inputs.items()}\n",
        "\n",
        "    with torch.no_grad():\n",
        "        outputs = model(**inputs)\n",
        "        logits = outputs.logits\n",
        "        pred_label = torch.argmax(logits, dim=1).item()\n",
        "        predicted_score = pred_label + 1\n",
        "        predictions.append(predicted_score)\n",
        "\n",
        "df[\"predicted_score\"] = predictions\n",
        "\n",
        "display(df)"
      ]
    },
    {
      "cell_type": "markdown",
      "metadata": {
        "id": "xwYJYbSkpq4Z"
      },
      "source": [
        "## Scatter Plot\n",
        "The scatter plot below uses two sets of data: predicted scores and actual scores. Then shows this data on the scatter plot with the yellow points being predicted scores and the blue points being actual scores."
      ]
    },
    {
      "cell_type": "code",
      "execution_count": null,
      "metadata": {
        "colab": {
          "base_uri": "https://localhost:8080/",
          "height": 351
        },
        "id": "1sFZo8YWDCwV",
        "outputId": "645eced7-caa6-4687-bffc-14ba8bbfe724"
      },
      "outputs": [
        {
          "data": {
            "image/png": "[encoded data removed]",
            "text/plain": [
              "<Figure size 600x300 with 1 Axes>"
            ]
          },
          "metadata": {},
          "output_type": "display_data"
        },
        {
          "name": "stdout",
          "output_type": "stream",
          "text": [
            "Done\n"
          ]
        }
      ],
      "source": [
        "#Predicts the score to the dataset essays and graphs against Actual scores\n",
        "\n",
        "device = torch.device(\"cuda\" if torch.cuda.is_available() else \"cpu\")\n",
        "\n",
        "model = model.to(device)\n",
        "model.eval()\n",
        "\n",
        "train = pd.read_csv(\"/content/drive/My Drive/cs345 goog/train.csv\")\n",
        "train_essays = train[\"full_text\"].tolist()\n",
        "train[\"score\"] = train[\"score\"].replace(6, 5)\n",
        "\n",
        "predictions = []\n",
        "actual_score = []\n",
        "\n",
        "for i, essay in enumerate(train_essays):\n",
        "    inputs = tokenizer(essay, truncation=True, padding=\"max_length\", max_length=512, return_tensors=\"pt\")\n",
        "    inputs = {k: v.to(device) for k, v in inputs.items()}\n",
        "\n",
        "    actual_score.append(train.iloc[i][\"score\"])\n",
        "\n",
        "    with torch.no_grad():\n",
        "        outputs = model(**inputs)\n",
        "        logits = outputs.logits\n",
        "        pred_label = torch.argmax(logits, dim=1).item()\n",
        "        predicted_score = pred_label + 1\n",
        "        predictions.append(predicted_score)\n",
        "\n",
        "import matplotlib.pyplot as plt\n",
        "\n",
        "#Graph\n",
        "def graph():\n",
        "  fig = plt.figure(figsize=(6, 3))\n",
        "  plt.scatter(range(len(actual_score)), actual_score, color='blue', alpha=0.5, label='Actual')\n",
        "  plt.scatter(range(len(predictions)), predictions, color='yellow', alpha=0.5, label='Predicted')\n",
        "  plt.xlabel('Essay ID')\n",
        "  plt.ylabel('Score')\n",
        "  plt.title('Actual Score vs Predicted')\n",
        "  plt.legend()\n",
        "  plt.show()\n",
        "\n",
        "graph()\n",
        "\n",
        "print(\"Done\")"
      ]
    },
    {
      "cell_type": "code",
      "execution_count": null,
      "metadata": {
        "colab": {
          "base_uri": "https://localhost:8080/",
          "height": 314
        },
        "id": "KDc0HI2-5adM",
        "outputId": "75812bf6-b341-4074-ade2-b9d0f3161a88"
      },
      "outputs": [
        {
          "data": {
            "image/png": "[encoded data removed]",
            "text/plain": [
              "<Figure size 400x300 with 1 Axes>"
            ]
          },
          "metadata": {},
          "output_type": "display_data"
        }
      ],
      "source": [
        "#Graphs the correct vs incorrect predictions\n",
        "def graph_accuracy():\n",
        "    correct = sum(p == a for p, a in zip(predictions, actual_score))\n",
        "    incorrect = len(predictions) - correct\n",
        "\n",
        "    labels = ['Correct', 'Incorrect']\n",
        "    values = [correct, incorrect]\n",
        "    colors = ['green', 'red']\n",
        "\n",
        "    fig, ax = plt.subplots(figsize=(4, 3))\n",
        "    ax.bar(labels, values, color=colors, alpha=0.7)\n",
        "    ax.set_ylabel(\"Essay Count\")\n",
        "    ax.set_title(\"Prediction Accuracy\")\n",
        "    for i, v in enumerate(values):\n",
        "        ax.text(i, v + 2, str(v), ha='center', fontweight='bold')\n",
        "    plt.show()\n",
        "\n",
        "graph_accuracy()"
      ]
    },
    {
      "cell_type": "code",
      "execution_count": null,
      "metadata": {
        "colab": {
          "base_uri": "https://localhost:8080/"
        },
        "id": "WDhTAlHONo87",
        "outputId": "2ec53b28-ca0b-40a1-9b02-a551d69f2bf9"
      },
      "outputs": [
        {
          "name": "stdout",
          "output_type": "stream",
          "text": [
            "\n",
            "--- Comparison ---\n",
            "DeBERTa | Accuracy: 0.7576 | MAE: 0.2505 | QWK: 0.8629\n",
            "SVM | Accuracy: 0.4697 | MAE: 0.6158 | QWK: 0.5854\n",
            "RandomForest | Accuracy: 0.5176 | MAE: 0.5335 | QWK: 0.5851\n"
          ]
        }
      ],
      "source": [
        "#Linear SVM vs deBERTa vs Random Forests comparision with accuracy, mean absolute error, and cohen kappa score\n",
        "from sklearn.metrics import accuracy_score, mean_absolute_error, cohen_kappa_score\n",
        "from sklearn.pipeline import Pipeline\n",
        "from sklearn.feature_extraction.text import TfidfVectorizer\n",
        "from sklearn.svm import LinearSVC\n",
        "from sklearn.ensemble import RandomForestClassifier\n",
        "\n",
        "\n",
        "rounded_actual = [int(x) for x in actual_score]\n",
        "rounded_pred = [int(x) for x in predictions]\n",
        "\n",
        "acc = accuracy_score(rounded_actual, rounded_pred)\n",
        "mae = mean_absolute_error(rounded_actual, rounded_pred)\n",
        "qwk = cohen_kappa_score(rounded_actual, rounded_pred, weights='quadratic')\n",
        "\n",
        "svm_pipeline = Pipeline([\n",
        "    (\"tfidf\", TfidfVectorizer(max_features=5000, ngram_range=(1, 2))),\n",
        "    (\"svm\", LinearSVC())\n",
        "])\n",
        "\n",
        "svm_pipeline.fit(X_train, y_train)\n",
        "svm_predict = svm_pipeline.predict(X_test)\n",
        "\n",
        "svm_acc = accuracy_score(y_test, svm_predict)\n",
        "svm_mae = mean_absolute_error(y_test, svm_predict)\n",
        "svm_qwk = cohen_kappa_score(y_test, svm_predict, weights=\"quadratic\")\n",
        "\n",
        "rf_pipeline = Pipeline([\n",
        "    (\"tfidf\", TfidfVectorizer(max_features=5000, ngram_range=(1, 2))),\n",
        "    (\"rf\", RandomForestClassifier(n_estimators=100, random_state=42))\n",
        "])\n",
        "\n",
        "rf_pipeline.fit(X_train, y_train)\n",
        "rf_pred = rf_pipeline.predict(X_test)\n",
        "\n",
        "rf_acc = accuracy_score(y_test, rf_pred)\n",
        "rf_mae = mean_absolute_error(y_test, rf_pred)\n",
        "rf_qwk = cohen_kappa_score(y_test, rf_pred, weights=\"quadratic\")\n",
        "\n",
        "print(\"\\n--- Comparison ---\")\n",
        "print(f\"DeBERTa | Accuracy: {acc:.4f} | MAE: {mae:.4f} | QWK: {qwk:.4f}\")\n",
        "print(f\"SVM | Accuracy: {svm_acc:.4f} | MAE: {svm_mae:.4f} | QWK: {svm_qwk:.4f}\")\n",
        "print(f\"RandomForest | Accuracy: {rf_acc:.4f} | MAE: {rf_mae:.4f} | QWK: {rf_qwk:.4f}\")\n"
      ]
    },
    {
      "cell_type": "markdown",
      "metadata": {
        "id": "mzDBnAoFQJIQ"
      },
      "source": [
        "## Results Discussion:\n",
        "The results clearly demonstrate that the DeBERTa model significantly outperforms both the SVM and RandomForest models in essay grading. DeBERTa achieved an accuracy of approximately 75.8%, whereas the SVM and RandomForest models reached only 47% and 51.8% accuracy, respectively. This makes the DeBERTa model over 20 percentage points more accurate than either traditional model. DeBERTa was tested using 17,307 essays and came out with only 4,195 incorrect scores, usually only having the predicted score one point off of the actual score.\n",
        "\n",
        "### What we learned:\n",
        "During this project we learned about tokenization, neural network training and pytorch. Tokenization is a fundamental process of NLPs that breaks down text into small units called tokens. The model uses the tokens to represent specific words or phrases. Before deciding to use DeBERTa we looked into some other models, including RoBERTa and BERT. We had never worked with a model like DeBERTa before so it took some research to figure out the best approach. Lastly we learned about pytorch's extensive library when it comes to working with NLPs."
      ]
    },
    {
      "cell_type": "markdown",
      "metadata": {
        "id": "SUg8GlRjIjSK"
      },
      "source": [
        "##Contributions:\n",
        "###Anna\n",
        "*   Automatic Essay Grader\n",
        "*   Data Explaination\n",
        "*   Library imports and Data Loader\n",
        "*   Scatter Plot\n",
        "*   Accuracy Score vs Predicted Score graph\n",
        "*   Results Discussion\n",
        "*   What we Learned\n",
        "*   Contributions\n",
        "*   Data Loader\n",
        "*   Essay score predictor\n",
        "\n",
        "###Quinn\n",
        "*   Library imports and Data Loader\n",
        "*   Model Initialization\n",
        "*   Dataset Class\n",
        "*   Args/Hyperparaments Initialization\n",
        "*   Train beginning\n",
        "*   ID Testing Function\n",
        "*   Unseen Essay Prediction\n",
        "*   DeBERTa vs Linear SVM vs RF Comparison\n",
        "*   Correct Incorrect Graph\n",
        "*   Corresponding Explainations\n",
        "\n"
      ]
    },
    {
      "cell_type": "markdown",
      "metadata": {
        "id": "A2aiQBpVcGn2"
      },
      "source": [
        "DeBERTaV3 Documentation: https://huggingface.co/microsoft/deberta-v3-base"
      ]
    }
  ],
  "metadata": {
    "colab": {
      "provenance": []
    },
    "kernelspec": {
      "display_name": "Python 3",
      "name": "python3"
    },
    "language_info": {
      "name": "python"
    },
    "nbformat": 4,
    "nbformat_minor": 0
  },
  "nbformat": 4,
  "nbformat_minor": 5
}
